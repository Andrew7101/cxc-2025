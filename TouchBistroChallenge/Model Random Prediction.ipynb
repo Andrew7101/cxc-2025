{
 "cells": [
  {
   "cell_type": "code",
   "execution_count": 39,
   "id": "423324a0-c0ab-4914-8144-aba9e88d271f",
   "metadata": {},
   "outputs": [
    {
     "name": "stdout",
     "output_type": "stream",
     "text": [
      "WARNING:tensorflow:Layer lstm_layer will not use cuDNN kernels since it doesn't meet the criteria. It will use a generic GPU kernel as fallback when running on GPU.\n"
     ]
    }
   ],
   "source": [
    "import random\n",
    "import numpy as np\n",
    "import pandas as pd\n",
    "from tensorflow.keras.models import load_model\n",
    "from sklearn.preprocessing import MinMaxScaler\n",
    "import joblib\n",
    "\n",
    "\n",
    "target_scaler = joblib.load(\"target_scaler.pkl\")\n",
    "final_model = load_model(\"final_model.h5\")"
   ]
  },
  {
   "cell_type": "code",
   "execution_count": 30,
   "id": "17d0a34c-8c70-42cc-afd3-0ecfabf1295e",
   "metadata": {},
   "outputs": [],
   "source": [
    "df_model = pd.read_csv('model_data.csv')"
   ]
  },
  {
   "cell_type": "code",
   "execution_count": 31,
   "id": "88c78093-839f-4ece-9665-d5b032fcef9a",
   "metadata": {},
   "outputs": [],
   "source": [
    "TARGET_COL = \"sales_revenue_with_tax_clip\"\n",
    "\n",
    "num_cols = [\n",
    "    \"payment_total_tip\",\n",
    "    \"payment_count_box\",\n",
    "    \"order_duration_seconds_box\",\n",
    "    \"prev_week_sales\",\n",
    "    \"prev_2week_sales\",\n",
    "    \"prev_3week_sales\",\n",
    "    \"moving_avg_4weeks\",\n",
    "    \"is_holiday\"\n",
    "]\n",
    "\n",
    "cat_cols = [\n",
    "    \"concept\",\n",
    "    \"city\",\n",
    "    \"venue_xref_id\"\n",
    "]"
   ]
  },
  {
   "cell_type": "code",
   "execution_count": 32,
   "id": "fb87c550-6c39-4f9a-b9e7-03d730745e03",
   "metadata": {},
   "outputs": [],
   "source": [
    "df_model = df_model.sort_values([\"venue_xref_id\", \"year_week\"]).reset_index(drop=True)"
   ]
  },
  {
   "cell_type": "code",
   "execution_count": 85,
   "id": "6990599c-51bb-43bb-8f49-461d3888eccc",
   "metadata": {},
   "outputs": [],
   "source": [
    "def create_sequences(grouped_df, num_cols, cat_cols, target_col, window_size=4):\n",
    "    X_num_all, X_cat_all, y_all = [], [], []\n",
    "    \n",
    "    for v_id in grouped_df[\"venue_xref_id\"].unique():\n",
    "        sub = grouped_df[grouped_df[\"venue_xref_id\"] == v_id].reset_index(drop=True)\n",
    "        n = len(sub)\n",
    "        if n <= window_size:\n",
    "            continue \n",
    "        \n",
    "        for i in range(n - window_size):\n",
    "            X_num_seq = sub[num_cols].iloc[i : i + window_size].values\n",
    "            X_cat_seq = sub[cat_cols].iloc[i : i + window_size].values\n",
    "            y_val = sub[target_col].iloc[i + window_size]\n",
    "            \n",
    "            X_num_all.append(X_num_seq)\n",
    "            X_cat_all.append(X_cat_seq)\n",
    "            y_all.append(y_val)\n",
    "    \n",
    "    X_num_all = np.array(X_num_all)  \n",
    "    X_cat_all = np.array(X_cat_all) \n",
    "    y_all = np.array(y_all)  \n",
    "    return X_num_all, X_cat_all, y_all\n",
    "\n",
    "window_size = 4\n",
    "X_num, X_cat, y = create_sequences(df_model, num_cols=num_cols, cat_cols=cat_cols, target_col=TARGET_COL, window_size=window_size)\n",
    "\n",
    "X_concept = X_cat[:, :, 0]\n",
    "X_city    = X_cat[:, :, 1]\n",
    "X_venue   = X_cat[:, :, 2]"
   ]
  },
  {
   "cell_type": "code",
   "execution_count": 86,
   "id": "74cdba02-ef38-4fb9-b97a-b4fc42f5d8df",
   "metadata": {},
   "outputs": [
    {
     "name": "stdout",
     "output_type": "stream",
     "text": [
      "Selected venue_xref_id: 28\n"
     ]
    }
   ],
   "source": [
    "unique_venues = df_model[\"venue_xref_id\"].unique()\n",
    "selected_venue = random.choice(unique_venues)\n",
    "print(\"Selected venue_xref_id:\", selected_venue)\n",
    "\n",
    "selected_indices = [i for i in range(len(y)) if X_cat[i, 0, 2] == selected_venue]"
   ]
  },
  {
   "cell_type": "code",
   "execution_count": 90,
   "id": "3cbe8a5a-3a2a-433e-a6cb-64a700625b8e",
   "metadata": {},
   "outputs": [
    {
     "name": "stdout",
     "output_type": "stream",
     "text": [
      "Sequence index: 588\n",
      "1/1 [==============================] - 0s 90ms/step\n",
      "Predicted revenue: 9143.696\n",
      "Actual revenue: 10869.85\n",
      "Absolute difference:1726.15\n"
     ]
    }
   ],
   "source": [
    "if len(selected_indices) == 0:\n",
    "    print(\"No sequence exists.\")\n",
    "else:\n",
    "    idx = random.choice(selected_indices)\n",
    "    print(\"Sequence index:\", idx)\n",
    "    \n",
    "    X_concept_sample = X_cat[idx:idx+1, :, 0]  \n",
    "    X_city_sample    = X_cat[idx:idx+1, :, 1] \n",
    "    X_venue_sample   = X_cat[idx:idx+1, :, 2] \n",
    "    X_num_sample     = X_num[idx:idx+1] \n",
    "\n",
    "    test_sample = {\n",
    "        \"concept_input\": X_concept_sample,\n",
    "        \"city_input\": X_city_sample,\n",
    "        \"venue_input\": X_venue_sample,\n",
    "        \"num_input\": X_num_sample\n",
    "    }\n",
    "    \n",
    "    y_pred_scaled = final_model.predict(test_sample)\n",
    "    y_pred_scaled = y_pred_scaled.flatten()[0]\n",
    "\n",
    "    actual_value_scaled = y[idx]\n",
    "    \n",
    "    y_pred_original = target_scaler.inverse_transform(np.array([y_pred_scaled]).reshape(-1, 1)).flatten()[0]\n",
    "    y_actual_original = target_scaler.inverse_transform(np.array([actual_value_scaled]).reshape(-1, 1)).flatten()[0]\n",
    "    \n",
    "    print(\"Predicted revenue:\", y_pred_original)\n",
    "    print(\"Actual revenue:\", y_actual_original)\n",
    "    print(\"Absolute difference:\" + str(abs(y_actual_original - y_pred_original).round(2)))"
   ]
  },
  {
   "cell_type": "code",
   "execution_count": null,
   "id": "8229455d-bb9a-4be5-9dd4-794c48a91fe5",
   "metadata": {},
   "outputs": [],
   "source": []
  }
 ],
 "metadata": {
  "kernelspec": {
   "display_name": "Python 3 (ipykernel)",
   "language": "python",
   "name": "python3"
  },
  "language_info": {
   "codemirror_mode": {
    "name": "ipython",
    "version": 3
   },
   "file_extension": ".py",
   "mimetype": "text/x-python",
   "name": "python",
   "nbconvert_exporter": "python",
   "pygments_lexer": "ipython3",
   "version": "3.10.14"
  }
 },
 "nbformat": 4,
 "nbformat_minor": 5
}
